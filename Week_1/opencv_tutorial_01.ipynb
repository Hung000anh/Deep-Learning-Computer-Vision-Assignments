{
  "cells": [
    {
      "cell_type": "markdown",
      "metadata": {
        "id": "ID3tUQ4LGLdF"
      },
      "source": [
        "#1. Loading and displaying an image"
      ]
    },
    {
      "cell_type": "code",
      "execution_count": null,
      "metadata": {
        "colab": {
          "base_uri": "https://localhost:8080/"
        },
        "id": "E4q0MxNZIMJg",
        "outputId": "93f9f87b-5cbd-4f69-ddb2-8d6a57998711"
      },
      "outputs": [],
      "source": [
        "#Reference: https://www.pyimagesearch.com/2018/07/19/opencv-tutorial-a-guide-to-learn-opencv/\n",
        "# from google.colab import drive\n",
        "# drive.mount('/content/gdrive')"
      ]
    },
    {
      "cell_type": "code",
      "execution_count": 3,
      "metadata": {
        "id": "lYTSs4WIFs-v"
      },
      "outputs": [],
      "source": [
        "import imutils\n",
        "import cv2\n",
        "import matplotlib.pyplot as plt\n",
        "# from google.colab.patches import cv2_imshow"
      ]
    },
    {
      "cell_type": "code",
      "execution_count": 4,
      "metadata": {
        "id": "dbbHXofvGnxD"
      },
      "outputs": [],
      "source": [
        "image = cv2.imread(\"../Week_1/Image/jurassic-park.png\")"
      ]
    },
    {
      "cell_type": "code",
      "execution_count": 5,
      "metadata": {
        "colab": {
          "base_uri": "https://localhost:8080/",
          "height": 484
        },
        "id": "ly0zQekiJOhT",
        "outputId": "702d44a5-8260-4d33-9a2e-46eafcb2387c"
      },
      "outputs": [
        {
          "name": "stdout",
          "output_type": "stream",
          "text": [
            "width=600, height=450, depth=3\n"
          ]
        }
      ],
      "source": [
        "(h, w, d) = image.shape #Return height, width, depth(chiều xâu) of image\n",
        "print(\"width={}, height={}, depth={}\".format(w, h, d))\n",
        "cv2.imshow(\"original image\",image)\n",
        "cv2.waitKey(0)\n",
        "cv2.destroyAllWindows()"
      ]
    },
    {
      "cell_type": "markdown",
      "metadata": {
        "id": "8ox-7QvHr80X"
      },
      "source": [
        "#2. Accessing individual pixels"
      ]
    },
    {
      "cell_type": "code",
      "execution_count": 6,
      "metadata": {
        "colab": {
          "base_uri": "https://localhost:8080/"
        },
        "id": "A3UF9a26rqYP",
        "outputId": "3348f315-6b95-40d5-bfe2-601289616b63"
      },
      "outputs": [
        {
          "name": "stdout",
          "output_type": "stream",
          "text": [
            "R=54, G=76, B=79\n"
          ]
        }
      ],
      "source": [
        "(B, G, R) = image[100, 50] #Return a 3-tuple of BGR values from the pixel located at x=50 and y=100 of image\n",
        "print(\"R={}, G={}, B={}\".format(R, G, B))"
      ]
    },
    {
      "cell_type": "markdown",
      "metadata": {
        "id": "jy-N0bs5sLq2"
      },
      "source": [
        "#3. Array slicing and cropping"
      ]
    },
    {
      "cell_type": "code",
      "execution_count": 7,
      "metadata": {
        "colab": {
          "base_uri": "https://localhost:8080/",
          "height": 117
        },
        "id": "2cD5BC5Qr314",
        "outputId": "e3f20cf7-2e03-4df8-8b52-fe3e51f0b6e7"
      },
      "outputs": [],
      "source": [
        "roi = image[50:150, 275:350] #Return new image (image[startY:endY, startX:endX])\n",
        "cv2.imshow(\"image slicing\",roi)\n",
        "cv2.waitKey(0)\n",
        "cv2.destroyAllWindows()"
      ]
    },
    {
      "cell_type": "markdown",
      "metadata": {
        "id": "Htd70jX3tKKW"
      },
      "source": [
        "#3. Resizing images"
      ]
    },
    {
      "cell_type": "markdown",
      "metadata": {
        "id": "2Ctdl2ua3bdj"
      },
      "source": [
        "##Resize original image to 200 x 200 pixels"
      ]
    },
    {
      "cell_type": "code",
      "execution_count": 8,
      "metadata": {
        "colab": {
          "base_uri": "https://localhost:8080/",
          "height": 217
        },
        "id": "1pOXwvExtJjh",
        "outputId": "7f49af1b-31a9-4b35-a776-f7a311cb0b93"
      },
      "outputs": [],
      "source": [
        "resized = cv2.resize(image, (200, 200))\n",
        "cv2.imshow(\"image resized\",resized)\n",
        "cv2.waitKey(0)\n",
        "cv2.destroyAllWindows()"
      ]
    },
    {
      "cell_type": "markdown",
      "metadata": {
        "id": "zCTifviL3qOW"
      },
      "source": [
        "##Calculate the aspect ratio of the original image"
      ]
    },
    {
      "cell_type": "code",
      "execution_count": 9,
      "metadata": {
        "colab": {
          "base_uri": "https://localhost:8080/",
          "height": 242
        },
        "id": "VfCLyfOXtgyz",
        "outputId": "6eb626ce-c62e-435d-9b10-1aebc447884a"
      },
      "outputs": [],
      "source": [
        "r = 300.0 / w #Calculate the ratio of the new width to the old width\n",
        "dim = (300, int(h * r)) #Dimensions(xác định) of the new image (h*r : new height)\n",
        "resized = cv2.resize(image, dim)\n",
        "cv2.imshow(\"image resized\",resized)\n",
        "cv2.waitKey(0)\n",
        "cv2.destroyAllWindows()"
      ]
    },
    {
      "cell_type": "code",
      "execution_count": 10,
      "metadata": {
        "colab": {
          "base_uri": "https://localhost:8080/",
          "height": 242
        },
        "id": "WMsI3ujYtsso",
        "outputId": "f329c288-91d0-4ff1-932c-247ce760eaf4"
      },
      "outputs": [],
      "source": [
        "resized = imutils.resize(image, width=300) #Shortened way of the above way(Cách rút gọn của cách trên)\n",
        "cv2.imshow(\"image resized\",resized)\n",
        "cv2.waitKey(0)\n",
        "cv2.destroyAllWindows()"
      ]
    },
    {
      "cell_type": "markdown",
      "metadata": {
        "id": "-vuBQvH9t7b3"
      },
      "source": [
        "#4. Rotating an image "
      ]
    },
    {
      "cell_type": "code",
      "execution_count": 12,
      "metadata": {
        "colab": {
          "base_uri": "https://localhost:8080/",
          "height": 467
        },
        "id": "JnJlIwwCt3Tp",
        "outputId": "ce089f8f-d64e-4553-b02e-43fdb8545d22"
      },
      "outputs": [],
      "source": [
        "center = (w // 2, h // 2) #Find the center of the rectangle\n",
        "M = cv2.getRotationMatrix2D(center, -45, 1.0) #Rotate the image 45 degrees clockwise(thuận chiều kim đồng hồ)\n",
        "rotated = cv2.warpAffine(image, M, (w, h))\n",
        "cv2.imshow(\"image RotationMatrix2D\",rotated)\n",
        "cv2.waitKey(0)\n",
        "cv2.destroyAllWindows()"
      ]
    },
    {
      "cell_type": "code",
      "execution_count": 13,
      "metadata": {
        "colab": {
          "base_uri": "https://localhost:8080/",
          "height": 467
        },
        "id": "4ly5CgQSuWIu",
        "outputId": "5e521fcf-5b9d-4f1a-a394-ac4fea0750a0"
      },
      "outputs": [],
      "source": [
        "rotated = imutils.rotate(image, -45) #Shortened way of the above way(Cách rút gọn của cách trên)\n",
        "cv2.imshow(\"image RotationMatrix2D -45\",rotated)\n",
        "cv2.waitKey(0)\n",
        "cv2.destroyAllWindows()"
      ]
    },
    {
      "cell_type": "markdown",
      "metadata": {
        "id": "uvkrcLqT6FK7"
      },
      "source": [
        "##Rotating an image but keep the entire image in view"
      ]
    },
    {
      "cell_type": "code",
      "execution_count": 14,
      "metadata": {
        "colab": {
          "base_uri": "https://localhost:8080/",
          "height": 759
        },
        "id": "7nrBGcHW6NF8",
        "outputId": "91137bc5-077e-43c1-c5d3-11c9232d2619"
      },
      "outputs": [],
      "source": [
        "rotated = imutils.rotate_bound(image, 45)\n",
        "cv2.imshow(\"image RotationMatrix2D 45\",rotated)\n",
        "cv2.waitKey(0)\n",
        "cv2.destroyAllWindows()"
      ]
    },
    {
      "cell_type": "markdown",
      "metadata": {
        "id": "VKp4xKBJus0d"
      },
      "source": [
        "#5. Smoothing an image"
      ]
    },
    {
      "cell_type": "code",
      "execution_count": 15,
      "metadata": {
        "colab": {
          "base_uri": "https://localhost:8080/",
          "height": 467
        },
        "id": "hbYiEa-Auo5J",
        "outputId": "f4343668-2e03-4e25-9110-1ae38669b99d"
      },
      "outputs": [],
      "source": [
        "blurred = cv2.GaussianBlur(image, (11, 11), 0) #perform a Gaussian Blur with an 11 x 11\n",
        "cv2.imshow(\"image GaussianBlur\",blurred)\n",
        "cv2.waitKey(0)\n",
        "cv2.destroyAllWindows()"
      ]
    },
    {
      "cell_type": "markdown",
      "metadata": {
        "id": "GvsgrQRbvJ4a"
      },
      "source": [
        "# 6.Drawing on an image"
      ]
    },
    {
      "cell_type": "markdown",
      "metadata": {
        "id": "cFZ7yFv-y2xZ"
      },
      "source": [
        "##Draw a rectangle"
      ]
    },
    {
      "cell_type": "code",
      "execution_count": 16,
      "metadata": {
        "colab": {
          "base_uri": "https://localhost:8080/",
          "height": 467
        },
        "id": "7cFoguHVu2eg",
        "outputId": "886c771b-440c-42c1-c151-fc6c19d0ef49"
      },
      "outputs": [],
      "source": [
        "output = image.copy()\n",
        "cv2.rectangle(output, (275, 50), (370, 150), (0, 0, 255), 2) \n",
        "# img, starting pixel coordinate which is the top-left, ending pixel — bottom-right, BGR tuple, Line thickness\n",
        "cv2.imshow(\"image rectangle\",output)\n",
        "cv2.waitKey(0)\n",
        "cv2.destroyAllWindows()"
      ]
    },
    {
      "cell_type": "markdown",
      "metadata": {
        "id": "D7b0Y5Zvy560"
      },
      "source": [
        "##Solid blue circle"
      ]
    },
    {
      "cell_type": "code",
      "execution_count": 17,
      "metadata": {
        "colab": {
          "base_uri": "https://localhost:8080/",
          "height": 467
        },
        "id": "NEiJTCQJzCf8",
        "outputId": "399df549-f1d6-408f-fd0b-1881bc9aea0e"
      },
      "outputs": [],
      "source": [
        "output = image.copy()\n",
        "cv2.circle(output, (320, 170), 20, (255, 0, 0), -1)\n",
        "# img,  center coordinate, circle radius in pixels, BGR tuple, Line thickness\n",
        "cv2.imshow(\"image circle\",output)\n",
        "cv2.waitKey(0)\n",
        "cv2.destroyAllWindows()"
      ]
    },
    {
      "cell_type": "markdown",
      "metadata": {
        "id": "j_Dko2stz7Kj"
      },
      "source": [
        "##Draw a red line"
      ]
    },
    {
      "cell_type": "code",
      "execution_count": 18,
      "metadata": {
        "colab": {
          "base_uri": "https://localhost:8080/",
          "height": 467
        },
        "id": "AxIM_-FLz-H4",
        "outputId": "21482405-402f-42a0-ff5a-724fec7545c4"
      },
      "outputs": [],
      "source": [
        "output = image.copy()\n",
        "cv2.line(output, (50, 50), (320, 170), (0, 0, 255), 5)\n",
        "# img, starting pixel coordinate which is the top-left, ending pixel — bottom-right, BGR tuple, Line thickness\n",
        "cv2.imshow(\"image line\",output)\n",
        "cv2.waitKey(0)\n",
        "cv2.destroyAllWindows()"
      ]
    },
    {
      "cell_type": "markdown",
      "metadata": {
        "id": "FdT1_tT603f7"
      },
      "source": [
        "#7. Overlay text on an image"
      ]
    },
    {
      "cell_type": "code",
      "execution_count": 19,
      "metadata": {
        "colab": {
          "base_uri": "https://localhost:8080/",
          "height": 467
        },
        "id": "NY6lzq7Y0WUk",
        "outputId": "83da9f3b-4786-418e-9a5f-5e3dcdea1fba"
      },
      "outputs": [],
      "source": [
        "output = image.copy()\n",
        "cv2.putText(output, \"OpenCV + Jurassic Park!!!\", (10, 25), cv2.FONT_HERSHEY_SIMPLEX, 0.7, (0, 255, 0), 2)\n",
        "#image, text, the starting point for the text, fonts, scale, text color, Line thickness\n",
        "cv2.imshow(\"image putText\",output)\n",
        "cv2.waitKey(0)\n",
        "cv2.destroyAllWindows()"
      ]
    }
  ],
  "metadata": {
    "colab": {
      "collapsed_sections": [],
      "name": "opencv_tutorial_01.ipynb",
      "provenance": []
    },
    "kernelspec": {
      "display_name": "Python 3",
      "name": "python3"
    },
    "language_info": {
      "codemirror_mode": {
        "name": "ipython",
        "version": 3
      },
      "file_extension": ".py",
      "mimetype": "text/x-python",
      "name": "python",
      "nbconvert_exporter": "python",
      "pygments_lexer": "ipython3",
      "version": "3.12.0"
    }
  },
  "nbformat": 4,
  "nbformat_minor": 0
}

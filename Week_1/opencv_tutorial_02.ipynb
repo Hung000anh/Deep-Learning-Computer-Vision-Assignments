{
  "cells": [
    {
      "cell_type": "markdown",
      "metadata": {
        "id": "mzWQ2olSQEXb"
      },
      "source": [
        "#1. Counting objects"
      ]
    },
    {
      "cell_type": "code",
      "execution_count": null,
      "metadata": {
        "colab": {
          "base_uri": "https://localhost:8080/"
        },
        "id": "VIKinEtvQB4h",
        "outputId": "683fd8d4-aa07-47a4-ff8c-cb09079c1fa6"
      },
      "outputs": [
        {
          "name": "stdout",
          "output_type": "stream",
          "text": [
            "Mounted at /content/gdrive\n"
          ]
        }
      ],
      "source": [
        "#Reference: https://www.pyimagesearch.com/2018/07/19/opencv-tutorial-a-guide-to-learn-opencv/\n",
        "from google.colab import drive\n",
        "drive.mount('/content/gdrive')"
      ]
    },
    {
      "cell_type": "code",
      "execution_count": 1,
      "metadata": {
        "id": "pORH6a0gQn5y"
      },
      "outputs": [],
      "source": [
        "# import the necessary packages\n",
        "import argparse\n",
        "import imutils\n",
        "import cv2\n",
        "import matplotlib.pyplot as plt"
      ]
    },
    {
      "cell_type": "code",
      "execution_count": 3,
      "metadata": {
        "colab": {
          "base_uri": "https://localhost:8080/",
          "height": 267
        },
        "id": "p-4kWv22XS4N",
        "outputId": "645d4f5c-d45c-47b3-cbb2-51ff9327a151"
      },
      "outputs": [],
      "source": [
        "image = cv2.imread(\"../Week_1/Image/tetris_blocks.png\")\n",
        "cv2.imshow(\"image\",image)\n",
        "cv2.waitKey(0)\n",
        "cv2.destroyAllWindows()"
      ]
    },
    {
      "cell_type": "code",
      "execution_count": 4,
      "metadata": {
        "colab": {
          "base_uri": "https://localhost:8080/",
          "height": 267
        },
        "id": "IdE7_tCKX3TT",
        "outputId": "27907a13-6e5f-4f8e-c5f2-ca3d9335313f"
      },
      "outputs": [],
      "source": [
        "# convert the image to grayscale\n",
        "gray = cv2.cvtColor(image, cv2.COLOR_BGR2GRAY)\n",
        "cv2.imshow(\"image gray\",gray)\n",
        "cv2.waitKey(0)\n",
        "cv2.destroyAllWindows()"
      ]
    },
    {
      "cell_type": "markdown",
      "metadata": {
        "id": "X8HMiJMqYLgu"
      },
      "source": [
        "#2. Edge detection"
      ]
    },
    {
      "cell_type": "code",
      "execution_count": 5,
      "metadata": {
        "colab": {
          "base_uri": "https://localhost:8080/",
          "height": 267
        },
        "id": "jxDV6ffeX-Nk",
        "outputId": "aef474bf-0eae-4eb2-a5de-ae032ffc4717"
      },
      "outputs": [],
      "source": [
        "edged = cv2.Canny(gray, 30, 150)\n",
        "#image gray, A minimum threshold, The maximum threshold, The Sobel kernel size\n",
        "cv2.imshow(\"image edged\",edged)\n",
        "cv2.waitKey(0)\n",
        "cv2.destroyAllWindows()"
      ]
    },
    {
      "cell_type": "markdown",
      "metadata": {
        "id": "0AIHQTWVYcP7"
      },
      "source": [
        "#3. Thresholding"
      ]
    },
    {
      "cell_type": "code",
      "execution_count": 6,
      "metadata": {
        "colab": {
          "base_uri": "https://localhost:8080/",
          "height": 267
        },
        "id": "UTULjYnyYXz4",
        "outputId": "1c3a544f-1b76-4d55-850a-e9820cd64460"
      },
      "outputs": [],
      "source": [
        "thresh = cv2.threshold(gray, 225, 255, cv2.THRESH_BINARY_INV)[1]\n",
        "cv2.imshow(\"image thresh\",thresh)\n",
        "cv2.waitKey(0)\n",
        "cv2.destroyAllWindows()"
      ]
    },
    {
      "cell_type": "markdown",
      "metadata": {
        "id": "lMRuGhY5Yq9g"
      },
      "source": [
        "#4. Detecting and drawing contours"
      ]
    },
    {
      "cell_type": "code",
      "execution_count": 7,
      "metadata": {
        "colab": {
          "base_uri": "https://localhost:8080/",
          "height": 1000
        },
        "id": "jjRMMjxUYmQh",
        "outputId": "a0beda8c-4aef-43f8-8676-80b801927a37"
      },
      "outputs": [],
      "source": [
        "# find contours (i.e., outlines) of the foreground objects in the\n",
        "# thresholded image\n",
        "cnts = cv2.findContours(thresh.copy(), cv2.RETR_EXTERNAL, cv2.CHAIN_APPROX_SIMPLE)\n",
        "cnts = imutils.grab_contours(cnts)\n",
        "output = image.copy()\n",
        "# loop over the contours\n",
        "for c in cnts:\n",
        "\t# draw each contour on the output image with a 3px thick purple\n",
        "\t# outline, then display the output contours one at a time\n",
        "\tcv2.drawContours(output, [c], -1, (240, 0, 159), 3)\n",
        "\tcv2.imshow(\"image output\",output)\n",
        "\tcv2.waitKey(0)\n",
        "\tcv2.destroyAllWindows()"
      ]
    },
    {
      "cell_type": "code",
      "execution_count": 8,
      "metadata": {
        "colab": {
          "base_uri": "https://localhost:8080/",
          "height": 267
        },
        "id": "-_mSlVvOY6-r",
        "outputId": "1fcd1a79-4651-447d-dbc2-af8f4b9d0d11"
      },
      "outputs": [],
      "source": [
        "# draw the total number of contours found in purple\n",
        "text = \"I found {} objects!\".format(len(cnts))\n",
        "cv2.putText(output, text, (10, 25),  cv2.FONT_HERSHEY_SIMPLEX, 0.7, (240, 0, 159), 2)\n",
        "cv2.imshow(\"image output\",output)\n",
        "cv2.waitKey(0)\n",
        "cv2.destroyAllWindows()"
      ]
    },
    {
      "cell_type": "markdown",
      "metadata": {
        "id": "ZCBBbsgsZh5V"
      },
      "source": [
        "#5. Erosions and dilations"
      ]
    },
    {
      "cell_type": "markdown",
      "metadata": {
        "id": "0ySk1TUbZxW3"
      },
      "source": [
        "##Ersions (Ăn mòn)"
      ]
    },
    {
      "cell_type": "code",
      "execution_count": 10,
      "metadata": {
        "colab": {
          "base_uri": "https://localhost:8080/",
          "height": 267
        },
        "id": "aXE4Pd62ZqE_",
        "outputId": "a6b32c5e-5d17-4456-f93a-b750bd8ef90c"
      },
      "outputs": [],
      "source": [
        "# we apply erosions to reduce the size of foreground objects\n",
        "mask = thresh.copy()\n",
        "mask = cv2.erode(mask, None, iterations=5)\n",
        "cv2.imshow(\"image erions\",mask)\n",
        "cv2.waitKey(0)\n",
        "cv2.destroyAllWindows()"
      ]
    },
    {
      "cell_type": "markdown",
      "metadata": {
        "id": "yCZeelIpZ6VI"
      },
      "source": [
        "##Dilations (sự giãn nở)"
      ]
    },
    {
      "cell_type": "code",
      "execution_count": 11,
      "metadata": {
        "colab": {
          "base_uri": "https://localhost:8080/",
          "height": 267
        },
        "id": "dcPAyqIBaDZi",
        "outputId": "61221a13-462e-4eb5-dead-4778356e6456"
      },
      "outputs": [],
      "source": [
        "# similarly, dilations can increase the size of the ground objects\n",
        "mask = thresh.copy()\n",
        "mask = cv2.dilate(mask, None, iterations=5)\n",
        "cv2.imshow(\"image dilate\",mask)\n",
        "cv2.waitKey(0)\n",
        "cv2.destroyAllWindows()"
      ]
    },
    {
      "cell_type": "markdown",
      "metadata": {
        "id": "LqR936-1aUT2"
      },
      "source": [
        "#6. Masking and bitwise operations"
      ]
    },
    {
      "cell_type": "code",
      "execution_count": 12,
      "metadata": {
        "colab": {
          "base_uri": "https://localhost:8080/",
          "height": 267
        },
        "id": "Q_HBZmRYaWOO",
        "outputId": "e4089b5c-8853-48a9-a6ae-4d759875ce3a"
      },
      "outputs": [],
      "source": [
        "# a typical operation we may want to apply is to take our mask and\n",
        "# apply a bitwise AND to our input image, keeping only the masked\n",
        "# regions\n",
        "mask = thresh.copy()\n",
        "output = cv2.bitwise_and(image, image, mask=mask)\n",
        "cv2.imshow(\"image mask\",mask)\n",
        "cv2.waitKey(0)\n",
        "cv2.destroyAllWindows()"
      ]
    }
  ],
  "metadata": {
    "colab": {
      "collapsed_sections": [],
      "name": "opencv_tutorial_02.ipynb",
      "provenance": []
    },
    "kernelspec": {
      "display_name": "Python 3",
      "name": "python3"
    },
    "language_info": {
      "codemirror_mode": {
        "name": "ipython",
        "version": 3
      },
      "file_extension": ".py",
      "mimetype": "text/x-python",
      "name": "python",
      "nbconvert_exporter": "python",
      "pygments_lexer": "ipython3",
      "version": "3.12.0"
    }
  },
  "nbformat": 4,
  "nbformat_minor": 0
}
